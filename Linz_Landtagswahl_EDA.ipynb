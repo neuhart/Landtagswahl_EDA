{
 "cells": [
  {
   "cell_type": "markdown",
   "metadata": {},
   "source": [
    "# Summary"
   ]
  },
  {
   "cell_type": "markdown",
   "metadata": {},
   "source": [
    "This is an exploratory data analysis of the election results in Linz of the 2021 state election in Upper Austria. The EDA comprises preprocessing, evaluation of various statistical metrics done with pandas, various plots such as regression plots and correlation matrices using the python library seaborn. At the end of each mentioned task, some interesting insights are presented to the reader. "
   ]
  },
  {
   "cell_type": "markdown",
   "metadata": {},
   "source": [
    "# Background Information"
   ]
  },
  {
   "cell_type": "markdown",
   "metadata": {},
   "source": [
    "LT21Sprengel.csv (Source: https://data.linz.gv.at/katalog/population/wahlen/landtagswahl/2021/) contains the results of the 2021 state election in Upper Austria (Oberösterreich) constrained to the votes of Upper Austria's capital city Linz. For the purpose of the election the capital is divided into 'Wahlsprengel'. On average about 500 people elligible to vote live in each Wahlsprengel. "
   ]
  },
  {
   "cell_type": "code",
   "execution_count": 156,
   "metadata": {},
   "outputs": [],
   "source": [
    "import pandas as pd\n",
    "import seaborn as sns\n",
    "import matplotlib.pyplot as plt\n",
    "import matplotlib.ticker as mtick"
   ]
  },
  {
   "cell_type": "code",
   "execution_count": 157,
   "metadata": {},
   "outputs": [],
   "source": [
    "#read in data and rename column names for comfort\n",
    "\n",
    "file_path = \"C:/Users/phili/OneDrive/Dokumente/LT21Sprengel.csv\"\n",
    "raw_data= pd.read_csv(file_path, delimiter=';', encoding='unicode_escape')\n",
    "raw_data.rename(columns={'Wahlberechtigte': 'Wahlber.',\n",
    "                         'gültige Stimmen': 'gült. Stimmen',\n",
    "                         'abgegebene Stimmen': 'abg. Stimmen'},\n",
    "                inplace=True) #abbreviate column names for comfort"
   ]
  },
  {
   "cell_type": "markdown",
   "metadata": {},
   "source": [
    "# First Look at data"
   ]
  },
  {
   "cell_type": "markdown",
   "metadata": {},
   "source": [
    "Starting off the exploratory data analysis, I took a look at the data structure \n",
    "(e.g. names of columns, which columns are qualitative/quantitative, etc.).\n",
    "I also looked into some statistical metrics such as the mean, std, etc. of each \n",
    "column to get a better unterstanding of the distribution of the numerical data."
   ]
  },
  {
   "cell_type": "code",
   "execution_count": 158,
   "metadata": {
    "scrolled": false
   },
   "outputs": [
    {
     "name": "stdout",
     "output_type": "stream",
     "text": [
      "   Wahl  Wahlsprengel  Wahlber.  abg. Stimmen  gült. Stimmen  ÖVP  FPÖ  SPÖ  \\\n",
      "0  LT21             1       500           312            306   72   31   53   \n",
      "1  LT21             3       492           339            337   73   25   55   \n",
      "2  LT21             4       563           370            363  112   28   52   \n",
      "3  LT21             5       512           395            392  126   26   43   \n",
      "4  LT21            20       547           378            374   73   26   78   \n",
      "\n",
      "   GRÜNE  NEOS  MFG  KPÖ  BESTE  UBB  R  \n",
      "0     75    35   20   19      1    0  0  \n",
      "1    124    34   11    8      5    1  1  \n",
      "2    109    31   28    3      0    0  0  \n",
      "3    141    31   10   12      2    0  1  \n",
      "4    126    33   15   18      5    0  0  \n",
      "       Wahlsprengel    Wahlber.  abg. Stimmen  gült. Stimmen         ÖVP  \\\n",
      "count    237.000000  237.000000    237.000000     237.000000  237.000000   \n",
      "mean     376.962025  566.130802    360.573840     351.194093   94.253165   \n",
      "std      222.498645  115.450975    160.500937     158.604468   46.039262   \n",
      "min        1.000000  115.000000      0.000000       0.000000    0.000000   \n",
      "25%      183.000000  529.000000    301.000000     292.000000   64.000000   \n",
      "50%      402.000000  580.000000    359.000000     352.000000   90.000000   \n",
      "75%      525.000000  627.000000    418.000000     408.000000  116.000000   \n",
      "max      888.000000  867.000000   2281.000000    2250.000000  498.000000   \n",
      "\n",
      "              FPÖ         SPÖ       GRÜNE        NEOS         MFG         KPÖ  \\\n",
      "count  237.000000  237.000000  237.000000  237.000000  237.000000  237.000000   \n",
      "mean    53.932489   89.953586   66.105485   20.417722   16.708861    8.025316   \n",
      "std     23.568051   34.700565   58.858793   18.593516   10.502807    6.640862   \n",
      "min      0.000000    0.000000    0.000000    0.000000    0.000000    0.000000   \n",
      "25%     39.000000   73.000000   27.000000   11.000000   12.000000    4.000000   \n",
      "50%     53.000000   91.000000   59.000000   18.000000   16.000000    7.000000   \n",
      "75%     68.000000  107.000000   95.000000   28.000000   21.000000   10.000000   \n",
      "max    187.000000  385.000000  723.000000  243.000000  136.000000   69.000000   \n",
      "\n",
      "            BESTE         UBB           R  \n",
      "count  237.000000  237.000000  237.000000  \n",
      "mean     1.059072    0.312236    0.426160  \n",
      "std      1.166577    0.563338    0.718867  \n",
      "min      0.000000    0.000000    0.000000  \n",
      "25%      0.000000    0.000000    0.000000  \n",
      "50%      1.000000    0.000000    0.000000  \n",
      "75%      2.000000    1.000000    1.000000  \n",
      "max      5.000000    3.000000    4.000000  \n",
      "<class 'pandas.core.frame.DataFrame'>\n",
      "RangeIndex: 237 entries, 0 to 236\n",
      "Data columns (total 15 columns):\n",
      "Wahl             237 non-null object\n",
      "Wahlsprengel     237 non-null int64\n",
      "Wahlber.         237 non-null int64\n",
      "abg. Stimmen     237 non-null int64\n",
      "gült. Stimmen    237 non-null int64\n",
      "ÖVP              237 non-null int64\n",
      "FPÖ              237 non-null int64\n",
      "SPÖ              237 non-null int64\n",
      "GRÜNE            237 non-null int64\n",
      "NEOS             237 non-null int64\n",
      "MFG              237 non-null int64\n",
      "KPÖ              237 non-null int64\n",
      "BESTE            237 non-null int64\n",
      "UBB              237 non-null int64\n",
      "R                237 non-null int64\n",
      "dtypes: int64(14), object(1)\n",
      "memory usage: 27.9+ KB\n",
      "None\n",
      "All columns:  Index(['Wahl', 'Wahlsprengel', 'Wahlber.', 'abg. Stimmen', 'gült. Stimmen',\n",
      "       'ÖVP', 'FPÖ', 'SPÖ', 'GRÜNE', 'NEOS', 'MFG', 'KPÖ', 'BESTE', 'UBB',\n",
      "       'R'],\n",
      "      dtype='object')\n",
      "int64     14\n",
      "object     1\n",
      "dtype: int64\n",
      "Shape:  (237, 15)\n"
     ]
    }
   ],
   "source": [
    "\n",
    "print(raw_data.head())\n",
    "print(raw_data.describe())\n",
    "print(raw_data.info()) #data is clean\n",
    "print('All columns: ', raw_data.columns)\n",
    "print(raw_data.dtypes.value_counts())\n",
    "print('Shape: ', raw_data.shape)"
   ]
  },
  {
   "cell_type": "markdown",
   "metadata": {},
   "source": [
    "I got rid of some columns and added the Party colors"
   ]
  },
  {
   "cell_type": "code",
   "execution_count": 159,
   "metadata": {},
   "outputs": [
    {
     "name": "stdout",
     "output_type": "stream",
     "text": [
      "Selected columns:  Index(['Wahlsprengel', 'Wahlber.', 'abg. Stimmen', 'gült. Stimmen', 'ÖVP',\n",
      "       'FPÖ', 'SPÖ', 'GRÜNE', 'NEOS'],\n",
      "      dtype='object')\n"
     ]
    }
   ],
   "source": [
    "\"\"\"Delete unnecessary columns\"\"\"\n",
    "raw_data.drop('Wahl', axis=1, inplace=True) #Landtagswahl_21\n",
    "\n",
    "total_valid_votes= raw_data['gült. Stimmen'].sum()\n",
    "excluded_parties= [col for col in raw_data.columns if  raw_data[col].sum() / total_valid_votes < 0.05]\n",
    "consolidated_data= raw_data.drop(excluded_parties, axis=1) #drop parties which received less than 5% of the votes\n",
    "print('Selected columns: ', consolidated_data.columns)"
   ]
  },
  {
   "cell_type": "code",
   "execution_count": 160,
   "metadata": {},
   "outputs": [],
   "source": [
    "\"\"\"Parties and their associated colors\"\"\"\n",
    "Parties=['ÖVP', 'FPÖ', 'SPÖ', 'GRÜNE', 'NEOS']\n",
    "party_colors=['turquoise','mediumblue','red', 'lawngreen', 'deeppink']\n",
    "Party_color_dict=dict(zip(Parties, party_colors)) #useful if order of partys in a plot changes"
   ]
  },
  {
   "cell_type": "markdown",
   "metadata": {},
   "source": [
    "# Data Analysis/Plots"
   ]
  },
  {
   "cell_type": "markdown",
   "metadata": {},
   "source": [
    "## Election results"
   ]
  },
  {
   "cell_type": "markdown",
   "metadata": {},
   "source": [
    "After some preprocessing of the data such as getting rid of parties with less than 5% of the total vote,\n",
    "I plotted the election results."
   ]
  },
  {
   "cell_type": "code",
   "execution_count": 161,
   "metadata": {},
   "outputs": [
    {
     "data": {
      "image/png": "[encoded data removed]",
      "text/plain": [
       "<Figure size 432x288 with 1 Axes>"
      ]
     },
     "metadata": {
      "needs_background": "light"
     },
     "output_type": "display_data"
    },
    {
     "name": "stdout",
     "output_type": "stream",
     "text": [
      "Election Results:  {'ÖVP': 0.2683791284706787, 'FPÖ': 0.15356889695193013, 'SPÖ': 0.25613638821140655, 'GRÜNE': 0.18823062967813248, 'NEOS': 0.05813799814977232}\n"
     ]
    }
   ],
   "source": [
    "\n",
    "Election_results_per_party= dict(zip(Parties, [consolidated_data[party].sum()/total_valid_votes for party in Parties]))\n",
    "\n",
    "sns.barplot(x=list(Election_results_per_party.keys()), y=list(Election_results_per_party.values()),\n",
    "            palette=party_colors)\n",
    "plt.ylabel('Total votes in %')\n",
    "plt.gca().yaxis.set_major_formatter(mtick.PercentFormatter(1))\n",
    "plt.title('Landtagswahl Oberösterreich 2021')\n",
    "plt.show()\n",
    "print('Election Results: ', Election_results_per_party)"
   ]
  },
  {
   "cell_type": "markdown",
   "metadata": {},
   "source": [
    "## Regression"
   ]
  },
  {
   "cell_type": "markdown",
   "metadata": {},
   "source": [
    "To find out if there are any significant correlations between votes and population size of a \n",
    "'Wahlsprengel' for any party, I created regression plots for each party.\n"
   ]
  },
  {
   "cell_type": "code",
   "execution_count": 162,
   "metadata": {
    "scrolled": true
   },
   "outputs": [
    {
     "data": {
      "image/png": "[encoded data removed]",
      "text/plain": [
       "<Figure size 432x288 with 6 Axes>"
      ]
     },
     "metadata": {
      "needs_background": "light"
     },
     "output_type": "display_data"
    }
   ],
   "source": [
    "votes_in_rel_to_pop_size= consolidated_data.copy()\n",
    "for party in Parties:\n",
    "    votes_in_rel_to_pop_size[party]= votes_in_rel_to_pop_size[party]/votes_in_rel_to_pop_size['gült. Stimmen']\n",
    "\n",
    "\n",
    "fig, axes = plt.subplots(2, 3)\n",
    "for i in range(len(Parties)):\n",
    "    if i<=2:\n",
    "        sns.regplot(x=votes_in_rel_to_pop_size['Wahlber.'], y=votes_in_rel_to_pop_size[Parties[i]], ax= axes[0,i],\n",
    "                    color=party_colors[i])\n",
    "        axes[0,i].set(ylim=(0,1))\n",
    "    else:\n",
    "        sns.regplot(x=votes_in_rel_to_pop_size['Wahlber.'], y=votes_in_rel_to_pop_size[Parties[i]], ax=axes[1,i-3],\n",
    "                    color=party_colors[i])\n",
    "        axes[1,i-3].set(ylim=(0,1))\n",
    "\n",
    "plt.show()"
   ]
  },
  {
   "cell_type": "markdown",
   "metadata": {},
   "source": [
    "### Insights"
   ]
  },
  {
   "cell_type": "markdown",
   "metadata": {},
   "source": [
    "The Austrian people's party (ÖVP) shows a relatively large negative correlation in Linz. \n",
    "This is not very surprising since this party usually also performs better in rural areas.\n",
    "The Austrian social democratic party (SPÖ) seems to correlate with population size negatively as well. \n",
    "But this observation could be misleading considering the high leverage points of 'Wahlsprengel' \n",
    "with low population size where the social democrats performed very well.\n"
   ]
  },
  {
   "cell_type": "markdown",
   "metadata": {},
   "source": [
    "## Correlation Matrix "
   ]
  },
  {
   "cell_type": "markdown",
   "metadata": {},
   "source": [
    "Additionally, I drew the correlation matrix of all five partys."
   ]
  },
  {
   "cell_type": "code",
   "execution_count": 163,
   "metadata": {
    "scrolled": false
   },
   "outputs": [
    {
     "data": {
      "image/png": "[encoded data removed]",
      "text/plain": [
       "<Figure size 432x288 with 2 Axes>"
      ]
     },
     "metadata": {
      "needs_background": "light"
     },
     "output_type": "display_data"
    }
   ],
   "source": [
    "\n",
    "corr_matrix= votes_in_rel_to_pop_size[[\n",
    "                                'ÖVP', 'FPÖ', 'SPÖ', 'GRÜNE', 'NEOS']].corr(method='pearson')\n",
    "ax = sns.heatmap(corr_matrix, cmap=\"YlGnBu\", annot=True)\n",
    "\n",
    "#fix format\n",
    "bottom, top = ax.get_ylim()\n",
    "ax.set_ylim(bottom + 0.5, top - 0.5)\n",
    "\n",
    "plt.title('Correlation Matrix')\n",
    "#plt.savefig('heatmap.png', dpi=300, bbox_inches='tight')\n",
    "plt.show()"
   ]
  },
  {
   "cell_type": "markdown",
   "metadata": {},
   "source": [
    "### Insights"
   ]
  },
  {
   "cell_type": "markdown",
   "metadata": {},
   "source": [
    "GRÜNE and NEOS show high positive correlations. Both are high negative correlated to SPÖ and FPÖ. ÖVP also seems to be negatively correlated to both SPÖ and FPÖ but shows almost no correlations to GRÜNE and NEOS. "
   ]
  },
  {
   "cell_type": "markdown",
   "metadata": {},
   "source": [
    "## Election results per Wahlsprengel "
   ]
  },
  {
   "cell_type": "markdown",
   "metadata": {},
   "source": [
    "To gain potential further insight, I plotted the number of 'Wahlsprengel' won per party.\n"
   ]
  },
  {
   "cell_type": "code",
   "execution_count": 164,
   "metadata": {},
   "outputs": [
    {
     "name": "stdout",
     "output_type": "stream",
     "text": [
      "Wahlsprengel won per party:  {'SPÖ': 99, 'ÖVP': 95, 'GRÜNE': 35, 'FPÖ': 8, 'NEOS': 0}\n"
     ]
    },
    {
     "data": {
      "image/png": "[encoded data removed]",
      "text/plain": [
       "<Figure size 432x288 with 1 Axes>"
      ]
     },
     "metadata": {
      "needs_background": "light"
     },
     "output_type": "display_data"
    }
   ],
   "source": [
    "\"\"\"How many 'Wahlsprengel could each party win?\"\"\"\n",
    "no_of_Wahlsp_won = consolidated_data.copy()\n",
    "no_of_Wahlsp_won['Winner']= no_of_Wahlsp_won[Parties].idxmax(axis=1) #get party with most votes per Wahlsprengel\n",
    "\n",
    "wins_per_party = dict(no_of_Wahlsp_won['Winner'].value_counts())\n",
    "for party in Parties:\n",
    "    if not party in wins_per_party.keys():\n",
    "        wins_per_party[party]= 0\n",
    "print('Wahlsprengel won per party: ', wins_per_party)\n",
    "\n",
    "sns.barplot(x=list(wins_per_party.keys()), y=list(wins_per_party.values()),\n",
    "            palette=Party_color_dict)\n",
    "plt.title(\"Number of 'Wahlsprengel' won per party\")\n",
    "plt.show()"
   ]
  },
  {
   "cell_type": "markdown",
   "metadata": {},
   "source": [
    "### Insights"
   ]
  },
  {
   "cell_type": "markdown",
   "metadata": {},
   "source": [
    "Even though ÖVP won the election in Linz, SPÖ won more Wahlsprengel in total. This can at least in part be explained by the high negative correlation of ÖVP's votes and population size per Wahlsprengel. "
   ]
  },
  {
   "cell_type": "markdown",
   "metadata": {},
   "source": [
    "# Possible follow-ups:"
   ]
  },
  {
   "cell_type": "markdown",
   "metadata": {},
   "source": [
    "Why is there such a high correlation between NEOS and GRÜNE? \n",
    "Why show NEOS and ÖVP almost no correlation? \n",
    "Are Wahlsprengel with higher populations also more densely populated?"
   ]
  }
 ],
 "metadata": {
  "kernelspec": {
   "display_name": "Python 3",
   "language": "python",
   "name": "python3"
  },
  "language_info": {
   "codemirror_mode": {
    "name": "ipython",
    "version": 3
   },
   "file_extension": ".py",
   "mimetype": "text/x-python",
   "name": "python",
   "nbconvert_exporter": "python",
   "pygments_lexer": "ipython3",
   "version": "3.7.4"
  }
 },
 "nbformat": 4,
 "nbformat_minor": 2
}
